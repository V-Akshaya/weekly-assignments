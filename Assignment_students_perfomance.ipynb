{
 "cells": [
  {
   "cell_type": "markdown",
   "id": "14b036a7",
   "metadata": {},
   "source": [
    "# Case Study on Measures of Central Tendency and Dispersion"
   ]
  },
  {
   "cell_type": "markdown",
   "id": "e6971317",
   "metadata": {},
   "source": [
    "### An Institution wishes to find out their student’s ability in maths, reading and writing skills. The Institution wants to do an exploratory study to check the following information.\n",
    "\n",
    "1. Find out how many males and females participated in the test.\n",
    "2. What do you think about the students' parental level of education?\n",
    "3. Who scores the most on average for math, reading and writing based on\n",
    "- Gender\n",
    "- Test preparation course\n",
    "4. What do you think about the scoring variation for math, reading and writing based on\n",
    "- Gender\n",
    "- Test preparation course\n",
    "5. The management needs your help to give bonus points to the top 25% of students based on their maths score, so how will you    help the management to achieve this."
   ]
  },
  {
   "cell_type": "code",
   "execution_count": 1,
   "id": "45278ecc",
   "metadata": {},
   "outputs": [],
   "source": [
    "#importing dependencies \n",
    "import numpy as np\n",
    "import pandas as pd\n",
    "import seaborn as sns\n",
    "import matplotlib.pyplot as plt"
   ]
  },
  {
   "cell_type": "code",
   "execution_count": 2,
   "id": "265c1c2d",
   "metadata": {},
   "outputs": [],
   "source": [
    "#Reading the 'Studentperfomance.csv' file using read_csv()\n",
    "df = pd.read_csv(\"StudentsPerformance.csv\")"
   ]
  },
  {
   "cell_type": "code",
   "execution_count": 3,
   "id": "316cd8e2",
   "metadata": {},
   "outputs": [
    {
     "data": {
      "text/html": [
       "<div>\n",
       "<style scoped>\n",
       "    .dataframe tbody tr th:only-of-type {\n",
       "        vertical-align: middle;\n",
       "    }\n",
       "\n",
       "    .dataframe tbody tr th {\n",
       "        vertical-align: top;\n",
       "    }\n",
       "\n",
       "    .dataframe thead th {\n",
       "        text-align: right;\n",
       "    }\n",
       "</style>\n",
       "<table border=\"1\" class=\"dataframe\">\n",
       "  <thead>\n",
       "    <tr style=\"text-align: right;\">\n",
       "      <th></th>\n",
       "      <th>gender</th>\n",
       "      <th>race/ethnicity</th>\n",
       "      <th>parental level of education</th>\n",
       "      <th>lunch</th>\n",
       "      <th>test preparation course</th>\n",
       "      <th>math score</th>\n",
       "      <th>reading score</th>\n",
       "      <th>writing score</th>\n",
       "    </tr>\n",
       "  </thead>\n",
       "  <tbody>\n",
       "    <tr>\n",
       "      <th>0</th>\n",
       "      <td>female</td>\n",
       "      <td>group C</td>\n",
       "      <td>some high school</td>\n",
       "      <td>free/reduced</td>\n",
       "      <td>none</td>\n",
       "      <td>0</td>\n",
       "      <td>17</td>\n",
       "      <td>10</td>\n",
       "    </tr>\n",
       "    <tr>\n",
       "      <th>1</th>\n",
       "      <td>female</td>\n",
       "      <td>group B</td>\n",
       "      <td>high school</td>\n",
       "      <td>free/reduced</td>\n",
       "      <td>none</td>\n",
       "      <td>8</td>\n",
       "      <td>24</td>\n",
       "      <td>23</td>\n",
       "    </tr>\n",
       "    <tr>\n",
       "      <th>2</th>\n",
       "      <td>female</td>\n",
       "      <td>group B</td>\n",
       "      <td>some high school</td>\n",
       "      <td>free/reduced</td>\n",
       "      <td>none</td>\n",
       "      <td>18</td>\n",
       "      <td>32</td>\n",
       "      <td>28</td>\n",
       "    </tr>\n",
       "    <tr>\n",
       "      <th>3</th>\n",
       "      <td>female</td>\n",
       "      <td>group B</td>\n",
       "      <td>some college</td>\n",
       "      <td>standard</td>\n",
       "      <td>none</td>\n",
       "      <td>11</td>\n",
       "      <td>38</td>\n",
       "      <td>32</td>\n",
       "    </tr>\n",
       "    <tr>\n",
       "      <th>4</th>\n",
       "      <td>female</td>\n",
       "      <td>group C</td>\n",
       "      <td>some college</td>\n",
       "      <td>free/reduced</td>\n",
       "      <td>none</td>\n",
       "      <td>22</td>\n",
       "      <td>39</td>\n",
       "      <td>33</td>\n",
       "    </tr>\n",
       "  </tbody>\n",
       "</table>\n",
       "</div>"
      ],
      "text/plain": [
       "   gender race/ethnicity parental level of education         lunch  \\\n",
       "0  female        group C            some high school  free/reduced   \n",
       "1  female        group B                 high school  free/reduced   \n",
       "2  female        group B            some high school  free/reduced   \n",
       "3  female        group B                some college      standard   \n",
       "4  female        group C                some college  free/reduced   \n",
       "\n",
       "  test preparation course  math score  reading score  writing score  \n",
       "0                    none           0             17             10  \n",
       "1                    none           8             24             23  \n",
       "2                    none          18             32             28  \n",
       "3                    none          11             38             32  \n",
       "4                    none          22             39             33  "
      ]
     },
     "execution_count": 3,
     "metadata": {},
     "output_type": "execute_result"
    }
   ],
   "source": [
    "df.head()"
   ]
  },
  {
   "cell_type": "code",
   "execution_count": 4,
   "id": "ded3fb46",
   "metadata": {},
   "outputs": [
    {
     "data": {
      "text/html": [
       "<div>\n",
       "<style scoped>\n",
       "    .dataframe tbody tr th:only-of-type {\n",
       "        vertical-align: middle;\n",
       "    }\n",
       "\n",
       "    .dataframe tbody tr th {\n",
       "        vertical-align: top;\n",
       "    }\n",
       "\n",
       "    .dataframe thead th {\n",
       "        text-align: right;\n",
       "    }\n",
       "</style>\n",
       "<table border=\"1\" class=\"dataframe\">\n",
       "  <thead>\n",
       "    <tr style=\"text-align: right;\">\n",
       "      <th></th>\n",
       "      <th>gender</th>\n",
       "      <th>race/ethnicity</th>\n",
       "      <th>parental level of education</th>\n",
       "      <th>lunch</th>\n",
       "      <th>test preparation course</th>\n",
       "      <th>math score</th>\n",
       "      <th>reading score</th>\n",
       "      <th>writing score</th>\n",
       "    </tr>\n",
       "  </thead>\n",
       "  <tbody>\n",
       "    <tr>\n",
       "      <th>995</th>\n",
       "      <td>male</td>\n",
       "      <td>group E</td>\n",
       "      <td>some college</td>\n",
       "      <td>standard</td>\n",
       "      <td>completed</td>\n",
       "      <td>99</td>\n",
       "      <td>87</td>\n",
       "      <td>81</td>\n",
       "    </tr>\n",
       "    <tr>\n",
       "      <th>996</th>\n",
       "      <td>male</td>\n",
       "      <td>group A</td>\n",
       "      <td>some college</td>\n",
       "      <td>standard</td>\n",
       "      <td>completed</td>\n",
       "      <td>100</td>\n",
       "      <td>96</td>\n",
       "      <td>86</td>\n",
       "    </tr>\n",
       "    <tr>\n",
       "      <th>997</th>\n",
       "      <td>male</td>\n",
       "      <td>group D</td>\n",
       "      <td>some college</td>\n",
       "      <td>standard</td>\n",
       "      <td>completed</td>\n",
       "      <td>100</td>\n",
       "      <td>97</td>\n",
       "      <td>99</td>\n",
       "    </tr>\n",
       "    <tr>\n",
       "      <th>998</th>\n",
       "      <td>male</td>\n",
       "      <td>group E</td>\n",
       "      <td>associate's degree</td>\n",
       "      <td>free/reduced</td>\n",
       "      <td>completed</td>\n",
       "      <td>100</td>\n",
       "      <td>100</td>\n",
       "      <td>93</td>\n",
       "    </tr>\n",
       "    <tr>\n",
       "      <th>999</th>\n",
       "      <td>male</td>\n",
       "      <td>group E</td>\n",
       "      <td>bachelor's degree</td>\n",
       "      <td>standard</td>\n",
       "      <td>completed</td>\n",
       "      <td>100</td>\n",
       "      <td>100</td>\n",
       "      <td>100</td>\n",
       "    </tr>\n",
       "  </tbody>\n",
       "</table>\n",
       "</div>"
      ],
      "text/plain": [
       "    gender race/ethnicity parental level of education         lunch  \\\n",
       "995   male        group E                some college      standard   \n",
       "996   male        group A                some college      standard   \n",
       "997   male        group D                some college      standard   \n",
       "998   male        group E          associate's degree  free/reduced   \n",
       "999   male        group E           bachelor's degree      standard   \n",
       "\n",
       "    test preparation course  math score  reading score  writing score  \n",
       "995               completed          99             87             81  \n",
       "996               completed         100             96             86  \n",
       "997               completed         100             97             99  \n",
       "998               completed         100            100             93  \n",
       "999               completed         100            100            100  "
      ]
     },
     "execution_count": 4,
     "metadata": {},
     "output_type": "execute_result"
    }
   ],
   "source": [
    "df.tail()"
   ]
  },
  {
   "cell_type": "code",
   "execution_count": 5,
   "id": "8135c47c",
   "metadata": {},
   "outputs": [
    {
     "name": "stdout",
     "output_type": "stream",
     "text": [
      "<class 'pandas.core.frame.DataFrame'>\n",
      "RangeIndex: 1000 entries, 0 to 999\n",
      "Data columns (total 8 columns):\n",
      " #   Column                       Non-Null Count  Dtype \n",
      "---  ------                       --------------  ----- \n",
      " 0   gender                       1000 non-null   object\n",
      " 1   race/ethnicity               1000 non-null   object\n",
      " 2   parental level of education  1000 non-null   object\n",
      " 3   lunch                        1000 non-null   object\n",
      " 4   test preparation course      1000 non-null   object\n",
      " 5   math score                   1000 non-null   int64 \n",
      " 6   reading score                1000 non-null   int64 \n",
      " 7   writing score                1000 non-null   int64 \n",
      "dtypes: int64(3), object(5)\n",
      "memory usage: 62.6+ KB\n"
     ]
    }
   ],
   "source": [
    "df.info()"
   ]
  },
  {
   "cell_type": "code",
   "execution_count": 6,
   "id": "10429332",
   "metadata": {},
   "outputs": [
    {
     "data": {
      "text/plain": [
       "gender                         0\n",
       "race/ethnicity                 0\n",
       "parental level of education    0\n",
       "lunch                          0\n",
       "test preparation course        0\n",
       "math score                     0\n",
       "reading score                  0\n",
       "writing score                  0\n",
       "dtype: int64"
      ]
     },
     "execution_count": 6,
     "metadata": {},
     "output_type": "execute_result"
    }
   ],
   "source": [
    "df.isnull().sum()"
   ]
  },
  {
   "cell_type": "code",
   "execution_count": 7,
   "id": "6335d12b",
   "metadata": {},
   "outputs": [
    {
     "data": {
      "text/html": [
       "<div>\n",
       "<style scoped>\n",
       "    .dataframe tbody tr th:only-of-type {\n",
       "        vertical-align: middle;\n",
       "    }\n",
       "\n",
       "    .dataframe tbody tr th {\n",
       "        vertical-align: top;\n",
       "    }\n",
       "\n",
       "    .dataframe thead th {\n",
       "        text-align: right;\n",
       "    }\n",
       "</style>\n",
       "<table border=\"1\" class=\"dataframe\">\n",
       "  <thead>\n",
       "    <tr style=\"text-align: right;\">\n",
       "      <th></th>\n",
       "      <th>math score</th>\n",
       "      <th>reading score</th>\n",
       "      <th>writing score</th>\n",
       "    </tr>\n",
       "  </thead>\n",
       "  <tbody>\n",
       "    <tr>\n",
       "      <th>count</th>\n",
       "      <td>1000.000000</td>\n",
       "      <td>1000.000000</td>\n",
       "      <td>1000.000000</td>\n",
       "    </tr>\n",
       "    <tr>\n",
       "      <th>mean</th>\n",
       "      <td>66.001000</td>\n",
       "      <td>69.195000</td>\n",
       "      <td>68.119000</td>\n",
       "    </tr>\n",
       "    <tr>\n",
       "      <th>std</th>\n",
       "      <td>15.569567</td>\n",
       "      <td>14.706436</td>\n",
       "      <td>15.226381</td>\n",
       "    </tr>\n",
       "    <tr>\n",
       "      <th>min</th>\n",
       "      <td>0.000000</td>\n",
       "      <td>17.000000</td>\n",
       "      <td>10.000000</td>\n",
       "    </tr>\n",
       "    <tr>\n",
       "      <th>25%</th>\n",
       "      <td>57.000000</td>\n",
       "      <td>59.000000</td>\n",
       "      <td>58.000000</td>\n",
       "    </tr>\n",
       "    <tr>\n",
       "      <th>50%</th>\n",
       "      <td>66.000000</td>\n",
       "      <td>70.000000</td>\n",
       "      <td>69.000000</td>\n",
       "    </tr>\n",
       "    <tr>\n",
       "      <th>75%</th>\n",
       "      <td>77.000000</td>\n",
       "      <td>79.250000</td>\n",
       "      <td>79.000000</td>\n",
       "    </tr>\n",
       "    <tr>\n",
       "      <th>max</th>\n",
       "      <td>100.000000</td>\n",
       "      <td>100.000000</td>\n",
       "      <td>100.000000</td>\n",
       "    </tr>\n",
       "  </tbody>\n",
       "</table>\n",
       "</div>"
      ],
      "text/plain": [
       "        math score  reading score  writing score\n",
       "count  1000.000000    1000.000000    1000.000000\n",
       "mean     66.001000      69.195000      68.119000\n",
       "std      15.569567      14.706436      15.226381\n",
       "min       0.000000      17.000000      10.000000\n",
       "25%      57.000000      59.000000      58.000000\n",
       "50%      66.000000      70.000000      69.000000\n",
       "75%      77.000000      79.250000      79.000000\n",
       "max     100.000000     100.000000     100.000000"
      ]
     },
     "execution_count": 7,
     "metadata": {},
     "output_type": "execute_result"
    }
   ],
   "source": [
    "df.describe()"
   ]
  },
  {
   "cell_type": "markdown",
   "id": "7c988dec",
   "metadata": {},
   "source": [
    "## 1. Find out how many males and females participated in the test.\n"
   ]
  },
  {
   "cell_type": "code",
   "execution_count": 8,
   "id": "357bddaf",
   "metadata": {},
   "outputs": [
    {
     "data": {
      "text/plain": [
       "gender\n",
       "female    518\n",
       "male      482\n",
       "Name: race/ethnicity, dtype: int64"
      ]
     },
     "execution_count": 8,
     "metadata": {},
     "output_type": "execute_result"
    }
   ],
   "source": [
    "df_gender = df.groupby('gender')['race/ethnicity'].count()\n",
    "df_gender"
   ]
  },
  {
   "cell_type": "code",
   "execution_count": 9,
   "id": "576bc52c",
   "metadata": {},
   "outputs": [
    {
     "data": {
      "text/plain": [
       "Text(0, 0.5, 'Count')"
      ]
     },
     "execution_count": 9,
     "metadata": {},
     "output_type": "execute_result"
    },
    {
     "data": {
      "image/png": "[encoded data removed]",
      "text/plain": [
       "<Figure size 360x432 with 1 Axes>"
      ]
     },
     "metadata": {
      "needs_background": "light"
     },
     "output_type": "display_data"
    }
   ],
   "source": [
    "import matplotlib.pyplot as plt\n",
    "plt.figure(figsize=(5,6))\n",
    "gender = df['gender'].value_counts().to_frame().reset_index()\n",
    "plt.bar(gender['index'],gender['gender'],color = ['maroon','#B500FF'])\n",
    "plt.title(\"MALE VS FEMALE\")\n",
    "plt.xlabel('Gender')\n",
    "plt.ylabel('Count')"
   ]
  },
  {
   "cell_type": "markdown",
   "id": "99a3d7d1",
   "metadata": {},
   "source": [
    "## 2. What do you think about the students' parental level of education?"
   ]
  },
  {
   "cell_type": "code",
   "execution_count": 10,
   "id": "d87fc6b5",
   "metadata": {},
   "outputs": [
    {
     "data": {
      "image/png": "[encoded data removed]",
      "text/plain": [
       "<Figure size 1080x360 with 1 Axes>"
      ]
     },
     "metadata": {
      "needs_background": "light"
     },
     "output_type": "display_data"
    }
   ],
   "source": [
    "plt.subplots(figsize=(15,5))\n",
    "df['parental level of education'].value_counts(normalize = True)\n",
    "df['parental level of education'].value_counts(dropna = False).plot.bar(color=['black', 'red', 'green', 'blue', 'cyan'])\n",
    "plt.title('Comparison of Parental Education')\n",
    "plt.xlabel('Degree')\n",
    "plt.ylabel('count')\n",
    "plt.show()"
   ]
  },
  {
   "cell_type": "code",
   "execution_count": 11,
   "id": "41fc8865",
   "metadata": {},
   "outputs": [
    {
     "data": {
      "text/plain": [
       "1000"
      ]
     },
     "execution_count": 11,
     "metadata": {},
     "output_type": "execute_result"
    }
   ],
   "source": [
    "df['parental level of education'].count()"
   ]
  },
  {
   "cell_type": "code",
   "execution_count": 12,
   "id": "e67916d2",
   "metadata": {},
   "outputs": [
    {
     "data": {
      "text/plain": [
       "some college          226\n",
       "associate's degree    222\n",
       "high school           196\n",
       "some high school      179\n",
       "bachelor's degree     118\n",
       "master's degree        59\n",
       "Name: parental level of education, dtype: int64"
      ]
     },
     "execution_count": 12,
     "metadata": {},
     "output_type": "execute_result"
    }
   ],
   "source": [
    "df['parental level of education'].value_counts()"
   ]
  },
  {
   "cell_type": "markdown",
   "id": "2d8865a4",
   "metadata": {},
   "source": [
    "**Findings**\n",
    "\n",
    "* Out of 1000 parents 226 parents completed some colleges.\n",
    "* 222 parents hold an associate degree.\n",
    "* 196 parents only have an high school level education.\n",
    "* 118 parents hold an bachelors degree.\n",
    "* Only 59 parents hold an masters degree."
   ]
  },
  {
   "cell_type": "markdown",
   "id": "7eeb7663",
   "metadata": {},
   "source": [
    "## 3. Who scores the most on average for math, reading and writing based on\n",
    "### - Gender\n",
    "### - Test preparation course"
   ]
  },
  {
   "cell_type": "markdown",
   "id": "72e2e637",
   "metadata": {},
   "source": [
    "### A) On basis of Gender"
   ]
  },
  {
   "cell_type": "markdown",
   "id": "8fb71380",
   "metadata": {},
   "source": [
    "### Gender Wise - Math Score Average"
   ]
  },
  {
   "cell_type": "code",
   "execution_count": 13,
   "id": "579a8bba",
   "metadata": {},
   "outputs": [
    {
     "name": "stdout",
     "output_type": "stream",
     "text": [
      "Average of math score on the basis of gender:\n",
      "gender\n",
      "male      68.821577\n",
      "female    63.376448\n",
      "Name: math score, dtype: float64\n"
     ]
    }
   ],
   "source": [
    "#math score average on the basis of gender\n",
    "gender1 = df.groupby('gender')['math score'].mean().sort_values(ascending=False)\n",
    "print(\"Average of math score on the basis of gender:\")\n",
    "print(gender1)"
   ]
  },
  {
   "cell_type": "markdown",
   "id": "bf59a50b",
   "metadata": {},
   "source": [
    "**Findings**\n",
    "\n",
    "On the basis of gender male scored the most on maths with average score 68.82."
   ]
  },
  {
   "cell_type": "markdown",
   "id": "25762469",
   "metadata": {},
   "source": [
    "### Gender Wise -  Reading Score Average"
   ]
  },
  {
   "cell_type": "code",
   "execution_count": 14,
   "id": "f8178637",
   "metadata": {},
   "outputs": [
    {
     "name": "stdout",
     "output_type": "stream",
     "text": [
      "Average of reading score on the basis of gender:\n",
      "gender\n",
      "female    72.590734\n",
      "male      65.545643\n",
      "Name: reading score, dtype: float64\n"
     ]
    }
   ],
   "source": [
    "#reading score average on the basis of gender\n",
    "gender2 = df.groupby('gender')['reading score'].mean().sort_values(ascending=False)\n",
    "print(\"Average of reading score on the basis of gender:\")\n",
    "print(gender2)"
   ]
  },
  {
   "cell_type": "markdown",
   "id": "7f85e3d1",
   "metadata": {},
   "source": [
    "**Findings**\n",
    "\n",
    "On the basis of gender female scored the most on reading with avreage score of 72.59."
   ]
  },
  {
   "cell_type": "markdown",
   "id": "f7c5bde9",
   "metadata": {},
   "source": [
    "### Gender Wise - Writing Score Average"
   ]
  },
  {
   "cell_type": "code",
   "execution_count": 15,
   "id": "905d9115",
   "metadata": {},
   "outputs": [
    {
     "name": "stdout",
     "output_type": "stream",
     "text": [
      "Average of writing score on the basis of gender:\n",
      "gender\n",
      "female    72.467181\n",
      "male      63.446058\n",
      "Name: writing score, dtype: float64\n"
     ]
    }
   ],
   "source": [
    "#writing score average on the basis of gender\n",
    "gender3 = df.groupby('gender')['writing score'].mean().sort_values(ascending=False)\n",
    "print(\"Average of writing score on the basis of gender:\")\n",
    "print(gender3)"
   ]
  },
  {
   "cell_type": "markdown",
   "id": "e4d76e9b",
   "metadata": {},
   "source": [
    "**Findings**\n",
    "\n",
    "On the basis of gender female scored the most on writing with average score of 72.46."
   ]
  },
  {
   "cell_type": "markdown",
   "id": "6808f938",
   "metadata": {},
   "source": [
    "### Gender Wise - Total Score Average"
   ]
  },
  {
   "cell_type": "code",
   "execution_count": 16,
   "id": "c20beb58",
   "metadata": {},
   "outputs": [],
   "source": [
    "#calculating total score and average score.\n",
    "df['total'] = df['math score'] + df['reading score'] + df['writing score']\n",
    "df['average'] = df['total'] / 3"
   ]
  },
  {
   "cell_type": "code",
   "execution_count": 17,
   "id": "26d49826",
   "metadata": {},
   "outputs": [
    {
     "name": "stdout",
     "output_type": "stream",
     "text": [
      "Average of writing, reading and math score on the basis of gender :\n",
      "gender\n",
      "female    69.478121\n",
      "male      65.937759\n",
      "Name: average, dtype: float64\n"
     ]
    }
   ],
   "source": [
    "#average of all three score on the basis of gender\n",
    "avg = df.groupby('gender')['average'].mean().sort_values(ascending=False)\n",
    "print(\"Average of writing, reading and math score on the basis of gender :\")\n",
    "print(avg)"
   ]
  },
  {
   "cell_type": "markdown",
   "id": "5493036c",
   "metadata": {},
   "source": [
    "**Findings**\n",
    "\n",
    "On the basis of gender female scored the most on the average of all subjects."
   ]
  },
  {
   "cell_type": "markdown",
   "id": "546010f8",
   "metadata": {},
   "source": [
    "### B) Based on test preparation course"
   ]
  },
  {
   "cell_type": "markdown",
   "id": "72207d8c",
   "metadata": {},
   "source": [
    "### Test Preparation Wise - Math Score Average"
   ]
  },
  {
   "cell_type": "code",
   "execution_count": 18,
   "id": "84fa8c67",
   "metadata": {},
   "outputs": [
    {
     "name": "stdout",
     "output_type": "stream",
     "text": [
      "Average of math score on the basis of Test preparation course :\n",
      "test preparation course\n",
      "completed    69.96648\n",
      "none         63.78972\n",
      "Name: math score, dtype: float64\n"
     ]
    }
   ],
   "source": [
    "#math score average on the basis of test preparation\n",
    "test = df.groupby('test preparation course')['math score'].mean().sort_values(ascending=False)\n",
    "print(\"Average of math score on the basis of Test preparation course :\")\n",
    "print(test)"
   ]
  },
  {
   "cell_type": "markdown",
   "id": "146ac2c9",
   "metadata": {},
   "source": [
    "**Findings**\n",
    "\n",
    "On the basis of test preparation, those who completed the test preparation scored high mark in maths, with average score 69.96."
   ]
  },
  {
   "cell_type": "markdown",
   "id": "e7569e92",
   "metadata": {},
   "source": [
    "### Test Preparation Wise - Reading Score Average"
   ]
  },
  {
   "cell_type": "code",
   "execution_count": 19,
   "id": "fea9e6b5",
   "metadata": {},
   "outputs": [
    {
     "name": "stdout",
     "output_type": "stream",
     "text": [
      "Average of reading score on the basis of Test preparation course :\n",
      "test preparation course\n",
      "completed    74.175978\n",
      "none         66.417445\n",
      "Name: reading score, dtype: float64\n"
     ]
    }
   ],
   "source": [
    "#reading score average on the basis of test preparation\n",
    "test1 = df.groupby('test preparation course')['reading score'].mean().sort_values(ascending=False)\n",
    "print(\"Average of reading score on the basis of Test preparation course :\")\n",
    "print(test1)"
   ]
  },
  {
   "cell_type": "markdown",
   "id": "3700ae3d",
   "metadata": {},
   "source": [
    "**Findings**\n",
    "\n",
    "On the basis of test preparation, those who completed the test preparation scored high mark in reading, with average score 74.17."
   ]
  },
  {
   "cell_type": "markdown",
   "id": "d489f39a",
   "metadata": {},
   "source": [
    "### Test Preparation Wise - Writing Score Average"
   ]
  },
  {
   "cell_type": "code",
   "execution_count": 20,
   "id": "1aa389ea",
   "metadata": {},
   "outputs": [
    {
     "name": "stdout",
     "output_type": "stream",
     "text": [
      "Average of writing score on the basis of Test preparation course :\n",
      "test preparation course\n",
      "completed    74.684358\n",
      "none         64.457944\n",
      "Name: writing score, dtype: float64\n"
     ]
    }
   ],
   "source": [
    "#writing score average on the basis of test preparation\n",
    "test3 = df.groupby('test preparation course')['writing score'].mean().sort_values(ascending=False)\n",
    "print(\"Average of writing score on the basis of Test preparation course :\")\n",
    "print(test3)"
   ]
  },
  {
   "cell_type": "markdown",
   "id": "e127e204",
   "metadata": {},
   "source": [
    "**Findings**\n",
    "\n",
    "On the basis of test preparation, those who completed the test preparation scored high mark in writing, with average score 74.68."
   ]
  },
  {
   "cell_type": "markdown",
   "id": "5514da12",
   "metadata": {},
   "source": [
    "### Test Preparation Wise - Total Score Average"
   ]
  },
  {
   "cell_type": "code",
   "execution_count": 21,
   "id": "38497d62",
   "metadata": {},
   "outputs": [
    {
     "name": "stdout",
     "output_type": "stream",
     "text": [
      "Average of writing, reading and math score on the basis of Test preparation course :\n",
      "test preparation course\n",
      "completed    72.942272\n",
      "none         64.888370\n",
      "Name: average, dtype: float64\n"
     ]
    }
   ],
   "source": [
    "#average of all three score on the basis of test preparation\n",
    "test3 = df.groupby('test preparation course')['average'].mean().sort_values(ascending=False)\n",
    "print(\"Average of writing, reading and math score on the basis of Test preparation course :\")\n",
    "print(test3)"
   ]
  },
  {
   "cell_type": "markdown",
   "id": "08606945",
   "metadata": {},
   "source": [
    "**Findings**\n",
    "\n",
    "On the basis of test preparation, those who completed the test preparation scored high mark in all subject, with average score 72.94. Those who not complete their preparation scored less in all subject.\n"
   ]
  },
  {
   "cell_type": "markdown",
   "id": "94b26aac",
   "metadata": {},
   "source": [
    "## 4. What do you think about the scoring variation for math, reading and writing based on\n",
    "### - Gender\n",
    "### - Test preparation course"
   ]
  },
  {
   "cell_type": "markdown",
   "id": "ea528b51",
   "metadata": {},
   "source": [
    "### Coefficient Of Variation\n",
    "* **The coefficient of variation(cv) is the ratio of the standard deviation to the mean.**\n",
    "* **A lower CV implies low degree of variation while a higher CV connotes a higher variation or greater degree of relative variability.**\n",
    "* **Analysts often report the coefficient of variation as a percentage.**\n"
   ]
  },
  {
   "cell_type": "code",
   "execution_count": 22,
   "id": "71bf6c9d",
   "metadata": {},
   "outputs": [],
   "source": [
    "data = pd.read_csv(\"StudentsPerformance.csv\")"
   ]
  },
  {
   "cell_type": "markdown",
   "id": "90abc373",
   "metadata": {},
   "source": [
    "### Gender Wise - Maths Score Variation"
   ]
  },
  {
   "cell_type": "code",
   "execution_count": 23,
   "id": "e885d5f7",
   "metadata": {},
   "outputs": [
    {
     "data": {
      "text/html": [
       "<div>\n",
       "<style scoped>\n",
       "    .dataframe tbody tr th:only-of-type {\n",
       "        vertical-align: middle;\n",
       "    }\n",
       "\n",
       "    .dataframe tbody tr th {\n",
       "        vertical-align: top;\n",
       "    }\n",
       "\n",
       "    .dataframe thead th {\n",
       "        text-align: right;\n",
       "    }\n",
       "</style>\n",
       "<table border=\"1\" class=\"dataframe\">\n",
       "  <thead>\n",
       "    <tr style=\"text-align: right;\">\n",
       "      <th></th>\n",
       "      <th>count</th>\n",
       "      <th>mean</th>\n",
       "      <th>std</th>\n",
       "      <th>min</th>\n",
       "      <th>25%</th>\n",
       "      <th>50%</th>\n",
       "      <th>75%</th>\n",
       "      <th>max</th>\n",
       "      <th>cv</th>\n",
       "    </tr>\n",
       "    <tr>\n",
       "      <th>gender</th>\n",
       "      <th></th>\n",
       "      <th></th>\n",
       "      <th></th>\n",
       "      <th></th>\n",
       "      <th></th>\n",
       "      <th></th>\n",
       "      <th></th>\n",
       "      <th></th>\n",
       "      <th></th>\n",
       "    </tr>\n",
       "  </thead>\n",
       "  <tbody>\n",
       "    <tr>\n",
       "      <th>male</th>\n",
       "      <td>482.0</td>\n",
       "      <td>68.821577</td>\n",
       "      <td>14.556411</td>\n",
       "      <td>27.0</td>\n",
       "      <td>59.0</td>\n",
       "      <td>69.0</td>\n",
       "      <td>79.0</td>\n",
       "      <td>100.0</td>\n",
       "      <td>21.150941</td>\n",
       "    </tr>\n",
       "    <tr>\n",
       "      <th>female</th>\n",
       "      <td>518.0</td>\n",
       "      <td>63.376448</td>\n",
       "      <td>16.029928</td>\n",
       "      <td>0.0</td>\n",
       "      <td>54.0</td>\n",
       "      <td>65.0</td>\n",
       "      <td>74.0</td>\n",
       "      <td>100.0</td>\n",
       "      <td>25.293194</td>\n",
       "    </tr>\n",
       "  </tbody>\n",
       "</table>\n",
       "</div>"
      ],
      "text/plain": [
       "        count       mean        std   min   25%   50%   75%    max         cv\n",
       "gender                                                                       \n",
       "male    482.0  68.821577  14.556411  27.0  59.0  69.0  79.0  100.0  21.150941\n",
       "female  518.0  63.376448  16.029928   0.0  54.0  65.0  74.0  100.0  25.293194"
      ]
     },
     "execution_count": 23,
     "metadata": {},
     "output_type": "execute_result"
    }
   ],
   "source": [
    "data1=pd.DataFrame(data)\n",
    "data2=data1.groupby(\"gender\")[\"math score\"].describe()\n",
    "dfn=pd.DataFrame(data2)\n",
    "\n",
    "#coefficient of variation\n",
    "dfn[\"cv\"]=(data2[\"std\"]/data2[\"mean\"])*100\n",
    "dfn.sort_values(by=\"cv\",ascending=True)"
   ]
  },
  {
   "cell_type": "markdown",
   "id": "82f3f2d2",
   "metadata": {},
   "source": [
    "**Findings**\n",
    "\n",
    "In maths score females holds an higher variation (25.29%) in camparison to male maths score variation."
   ]
  },
  {
   "cell_type": "markdown",
   "id": "4e25ee93",
   "metadata": {},
   "source": [
    "### Gender Wise - Reading Score Variation"
   ]
  },
  {
   "cell_type": "code",
   "execution_count": 24,
   "id": "fa3b62c7",
   "metadata": {},
   "outputs": [
    {
     "data": {
      "text/html": [
       "<div>\n",
       "<style scoped>\n",
       "    .dataframe tbody tr th:only-of-type {\n",
       "        vertical-align: middle;\n",
       "    }\n",
       "\n",
       "    .dataframe tbody tr th {\n",
       "        vertical-align: top;\n",
       "    }\n",
       "\n",
       "    .dataframe thead th {\n",
       "        text-align: right;\n",
       "    }\n",
       "</style>\n",
       "<table border=\"1\" class=\"dataframe\">\n",
       "  <thead>\n",
       "    <tr style=\"text-align: right;\">\n",
       "      <th></th>\n",
       "      <th>count</th>\n",
       "      <th>mean</th>\n",
       "      <th>std</th>\n",
       "      <th>min</th>\n",
       "      <th>25%</th>\n",
       "      <th>50%</th>\n",
       "      <th>75%</th>\n",
       "      <th>max</th>\n",
       "      <th>cv</th>\n",
       "    </tr>\n",
       "    <tr>\n",
       "      <th>gender</th>\n",
       "      <th></th>\n",
       "      <th></th>\n",
       "      <th></th>\n",
       "      <th></th>\n",
       "      <th></th>\n",
       "      <th></th>\n",
       "      <th></th>\n",
       "      <th></th>\n",
       "      <th></th>\n",
       "    </tr>\n",
       "  </thead>\n",
       "  <tbody>\n",
       "    <tr>\n",
       "      <th>female</th>\n",
       "      <td>518.0</td>\n",
       "      <td>72.590734</td>\n",
       "      <td>14.411018</td>\n",
       "      <td>17.0</td>\n",
       "      <td>63.25</td>\n",
       "      <td>73.0</td>\n",
       "      <td>83.0</td>\n",
       "      <td>100.0</td>\n",
       "      <td>19.852421</td>\n",
       "    </tr>\n",
       "    <tr>\n",
       "      <th>male</th>\n",
       "      <td>482.0</td>\n",
       "      <td>65.545643</td>\n",
       "      <td>14.149594</td>\n",
       "      <td>23.0</td>\n",
       "      <td>56.00</td>\n",
       "      <td>66.0</td>\n",
       "      <td>76.0</td>\n",
       "      <td>100.0</td>\n",
       "      <td>21.587391</td>\n",
       "    </tr>\n",
       "  </tbody>\n",
       "</table>\n",
       "</div>"
      ],
      "text/plain": [
       "        count       mean        std   min    25%   50%   75%    max         cv\n",
       "gender                                                                        \n",
       "female  518.0  72.590734  14.411018  17.0  63.25  73.0  83.0  100.0  19.852421\n",
       "male    482.0  65.545643  14.149594  23.0  56.00  66.0  76.0  100.0  21.587391"
      ]
     },
     "execution_count": 24,
     "metadata": {},
     "output_type": "execute_result"
    }
   ],
   "source": [
    "data1=pd.DataFrame(data)\n",
    "data2=data1.groupby(\"gender\")[\"reading score\"].describe()\n",
    "dfn=pd.DataFrame(data2)\n",
    "\n",
    "#coefficient of variation\n",
    "dfn[\"cv\"]=(data2[\"std\"]/data2[\"mean\"])*100\n",
    "dfn.sort_values(by=\"cv\",ascending=True)"
   ]
  },
  {
   "cell_type": "markdown",
   "id": "3dbfce98",
   "metadata": {},
   "source": [
    "**Findings**\n",
    "\n",
    "In reading score male has an higher variation (21.58%) in camparison to female reading score variation."
   ]
  },
  {
   "cell_type": "markdown",
   "id": "100dcdc4",
   "metadata": {},
   "source": [
    "### Gender Wise - Writing Score Variation"
   ]
  },
  {
   "cell_type": "code",
   "execution_count": 25,
   "id": "e815d8ca",
   "metadata": {},
   "outputs": [
    {
     "data": {
      "text/html": [
       "<div>\n",
       "<style scoped>\n",
       "    .dataframe tbody tr th:only-of-type {\n",
       "        vertical-align: middle;\n",
       "    }\n",
       "\n",
       "    .dataframe tbody tr th {\n",
       "        vertical-align: top;\n",
       "    }\n",
       "\n",
       "    .dataframe thead th {\n",
       "        text-align: right;\n",
       "    }\n",
       "</style>\n",
       "<table border=\"1\" class=\"dataframe\">\n",
       "  <thead>\n",
       "    <tr style=\"text-align: right;\">\n",
       "      <th></th>\n",
       "      <th>count</th>\n",
       "      <th>mean</th>\n",
       "      <th>std</th>\n",
       "      <th>min</th>\n",
       "      <th>25%</th>\n",
       "      <th>50%</th>\n",
       "      <th>75%</th>\n",
       "      <th>max</th>\n",
       "      <th>cv</th>\n",
       "    </tr>\n",
       "    <tr>\n",
       "      <th>gender</th>\n",
       "      <th></th>\n",
       "      <th></th>\n",
       "      <th></th>\n",
       "      <th></th>\n",
       "      <th></th>\n",
       "      <th></th>\n",
       "      <th></th>\n",
       "      <th></th>\n",
       "      <th></th>\n",
       "    </tr>\n",
       "  </thead>\n",
       "  <tbody>\n",
       "    <tr>\n",
       "      <th>female</th>\n",
       "      <td>518.0</td>\n",
       "      <td>72.467181</td>\n",
       "      <td>14.844842</td>\n",
       "      <td>10.0</td>\n",
       "      <td>64.0</td>\n",
       "      <td>74.0</td>\n",
       "      <td>82.0</td>\n",
       "      <td>100.0</td>\n",
       "      <td>20.484917</td>\n",
       "    </tr>\n",
       "    <tr>\n",
       "      <th>male</th>\n",
       "      <td>482.0</td>\n",
       "      <td>63.446058</td>\n",
       "      <td>14.227225</td>\n",
       "      <td>15.0</td>\n",
       "      <td>53.0</td>\n",
       "      <td>64.0</td>\n",
       "      <td>74.0</td>\n",
       "      <td>100.0</td>\n",
       "      <td>22.424127</td>\n",
       "    </tr>\n",
       "  </tbody>\n",
       "</table>\n",
       "</div>"
      ],
      "text/plain": [
       "        count       mean        std   min   25%   50%   75%    max         cv\n",
       "gender                                                                       \n",
       "female  518.0  72.467181  14.844842  10.0  64.0  74.0  82.0  100.0  20.484917\n",
       "male    482.0  63.446058  14.227225  15.0  53.0  64.0  74.0  100.0  22.424127"
      ]
     },
     "execution_count": 25,
     "metadata": {},
     "output_type": "execute_result"
    }
   ],
   "source": [
    "data1=pd.DataFrame(data)\n",
    "data2=data1.groupby(\"gender\")[\"writing score\"].describe()\n",
    "dfn=pd.DataFrame(data2)\n",
    "\n",
    "#coefficient of variation\n",
    "dfn[\"cv\"]=(data2[\"std\"]/data2[\"mean\"])*100\n",
    "dfn.sort_values(by=\"cv\",ascending=True)"
   ]
  },
  {
   "cell_type": "markdown",
   "id": "8853e1cf",
   "metadata": {},
   "source": [
    "**Findings**\n",
    "\n",
    "In writing score male has an higher variation (22.42%) in camparison to female writing score variation."
   ]
  },
  {
   "cell_type": "markdown",
   "id": "460434cd",
   "metadata": {},
   "source": [
    "### Test Preparation Wise - Maths Score Variation"
   ]
  },
  {
   "cell_type": "code",
   "execution_count": 26,
   "id": "48713376",
   "metadata": {},
   "outputs": [
    {
     "data": {
      "text/html": [
       "<div>\n",
       "<style scoped>\n",
       "    .dataframe tbody tr th:only-of-type {\n",
       "        vertical-align: middle;\n",
       "    }\n",
       "\n",
       "    .dataframe tbody tr th {\n",
       "        vertical-align: top;\n",
       "    }\n",
       "\n",
       "    .dataframe thead th {\n",
       "        text-align: right;\n",
       "    }\n",
       "</style>\n",
       "<table border=\"1\" class=\"dataframe\">\n",
       "  <thead>\n",
       "    <tr style=\"text-align: right;\">\n",
       "      <th></th>\n",
       "      <th>count</th>\n",
       "      <th>mean</th>\n",
       "      <th>std</th>\n",
       "      <th>min</th>\n",
       "      <th>25%</th>\n",
       "      <th>50%</th>\n",
       "      <th>75%</th>\n",
       "      <th>max</th>\n",
       "      <th>cv</th>\n",
       "    </tr>\n",
       "    <tr>\n",
       "      <th>test preparation course</th>\n",
       "      <th></th>\n",
       "      <th></th>\n",
       "      <th></th>\n",
       "      <th></th>\n",
       "      <th></th>\n",
       "      <th></th>\n",
       "      <th></th>\n",
       "      <th></th>\n",
       "      <th></th>\n",
       "    </tr>\n",
       "  </thead>\n",
       "  <tbody>\n",
       "    <tr>\n",
       "      <th>completed</th>\n",
       "      <td>358.0</td>\n",
       "      <td>69.96648</td>\n",
       "      <td>14.521847</td>\n",
       "      <td>23.0</td>\n",
       "      <td>61.0</td>\n",
       "      <td>70.0</td>\n",
       "      <td>79.0</td>\n",
       "      <td>100.0</td>\n",
       "      <td>20.755434</td>\n",
       "    </tr>\n",
       "    <tr>\n",
       "      <th>none</th>\n",
       "      <td>642.0</td>\n",
       "      <td>63.78972</td>\n",
       "      <td>15.705689</td>\n",
       "      <td>0.0</td>\n",
       "      <td>54.0</td>\n",
       "      <td>64.0</td>\n",
       "      <td>74.0</td>\n",
       "      <td>100.0</td>\n",
       "      <td>24.621034</td>\n",
       "    </tr>\n",
       "  </tbody>\n",
       "</table>\n",
       "</div>"
      ],
      "text/plain": [
       "                         count      mean        std   min   25%   50%   75%  \\\n",
       "test preparation course                                                       \n",
       "completed                358.0  69.96648  14.521847  23.0  61.0  70.0  79.0   \n",
       "none                     642.0  63.78972  15.705689   0.0  54.0  64.0  74.0   \n",
       "\n",
       "                           max         cv  \n",
       "test preparation course                    \n",
       "completed                100.0  20.755434  \n",
       "none                     100.0  24.621034  "
      ]
     },
     "execution_count": 26,
     "metadata": {},
     "output_type": "execute_result"
    }
   ],
   "source": [
    "data1=pd.DataFrame(data)\n",
    "data2=data1.groupby(\"test preparation course\")[\"math score\"].describe()\n",
    "dfn=pd.DataFrame(data2)\n",
    "\n",
    "#coefficient of variation\n",
    "dfn[\"cv\"]=(data2[\"std\"]/data2[\"mean\"])*100\n",
    "dfn.sort_values(by=\"cv\",ascending=True)"
   ]
  },
  {
   "cell_type": "markdown",
   "id": "731c35d9",
   "metadata": {},
   "source": [
    "**Findings**\n",
    "\n",
    "Those who not completed the test preparation has an higher variation in maths score in camparison to those who completed."
   ]
  },
  {
   "cell_type": "markdown",
   "id": "763f2ff6",
   "metadata": {},
   "source": [
    "### Test Preparation Wise - Reading Score Variation"
   ]
  },
  {
   "cell_type": "code",
   "execution_count": 27,
   "id": "69419b0b",
   "metadata": {},
   "outputs": [
    {
     "data": {
      "text/html": [
       "<div>\n",
       "<style scoped>\n",
       "    .dataframe tbody tr th:only-of-type {\n",
       "        vertical-align: middle;\n",
       "    }\n",
       "\n",
       "    .dataframe tbody tr th {\n",
       "        vertical-align: top;\n",
       "    }\n",
       "\n",
       "    .dataframe thead th {\n",
       "        text-align: right;\n",
       "    }\n",
       "</style>\n",
       "<table border=\"1\" class=\"dataframe\">\n",
       "  <thead>\n",
       "    <tr style=\"text-align: right;\">\n",
       "      <th></th>\n",
       "      <th>count</th>\n",
       "      <th>mean</th>\n",
       "      <th>std</th>\n",
       "      <th>min</th>\n",
       "      <th>25%</th>\n",
       "      <th>50%</th>\n",
       "      <th>75%</th>\n",
       "      <th>max</th>\n",
       "      <th>cv</th>\n",
       "    </tr>\n",
       "    <tr>\n",
       "      <th>test preparation course</th>\n",
       "      <th></th>\n",
       "      <th></th>\n",
       "      <th></th>\n",
       "      <th></th>\n",
       "      <th></th>\n",
       "      <th></th>\n",
       "      <th></th>\n",
       "      <th></th>\n",
       "      <th></th>\n",
       "    </tr>\n",
       "  </thead>\n",
       "  <tbody>\n",
       "    <tr>\n",
       "      <th>completed</th>\n",
       "      <td>358.0</td>\n",
       "      <td>74.175978</td>\n",
       "      <td>13.537572</td>\n",
       "      <td>37.0</td>\n",
       "      <td>66.0</td>\n",
       "      <td>75.0</td>\n",
       "      <td>84.0</td>\n",
       "      <td>100.0</td>\n",
       "      <td>18.250615</td>\n",
       "    </tr>\n",
       "    <tr>\n",
       "      <th>none</th>\n",
       "      <td>642.0</td>\n",
       "      <td>66.417445</td>\n",
       "      <td>14.608896</td>\n",
       "      <td>17.0</td>\n",
       "      <td>57.0</td>\n",
       "      <td>67.0</td>\n",
       "      <td>76.0</td>\n",
       "      <td>100.0</td>\n",
       "      <td>21.995571</td>\n",
       "    </tr>\n",
       "  </tbody>\n",
       "</table>\n",
       "</div>"
      ],
      "text/plain": [
       "                         count       mean        std   min   25%   50%   75%  \\\n",
       "test preparation course                                                        \n",
       "completed                358.0  74.175978  13.537572  37.0  66.0  75.0  84.0   \n",
       "none                     642.0  66.417445  14.608896  17.0  57.0  67.0  76.0   \n",
       "\n",
       "                           max         cv  \n",
       "test preparation course                    \n",
       "completed                100.0  18.250615  \n",
       "none                     100.0  21.995571  "
      ]
     },
     "execution_count": 27,
     "metadata": {},
     "output_type": "execute_result"
    }
   ],
   "source": [
    "data1=pd.DataFrame(data)\n",
    "data2=data1.groupby(\"test preparation course\")[\"reading score\"].describe()\n",
    "dfn=pd.DataFrame(data2)\n",
    "\n",
    "#coefficient of variation\n",
    "dfn[\"cv\"]=(data2[\"std\"]/data2[\"mean\"])*100\n",
    "dfn.sort_values(by=\"cv\",ascending=True)"
   ]
  },
  {
   "cell_type": "markdown",
   "id": "532b52cc",
   "metadata": {},
   "source": [
    "**Findings**\n",
    "\n",
    "Those who not completed the test preparation has an higher variation in reading score in camparison to those who completed."
   ]
  },
  {
   "cell_type": "markdown",
   "id": "f2d21821",
   "metadata": {},
   "source": [
    "### Test Preparation Wise - Writing Score Variation"
   ]
  },
  {
   "cell_type": "code",
   "execution_count": 28,
   "id": "f8c54e84",
   "metadata": {},
   "outputs": [
    {
     "data": {
      "text/html": [
       "<div>\n",
       "<style scoped>\n",
       "    .dataframe tbody tr th:only-of-type {\n",
       "        vertical-align: middle;\n",
       "    }\n",
       "\n",
       "    .dataframe tbody tr th {\n",
       "        vertical-align: top;\n",
       "    }\n",
       "\n",
       "    .dataframe thead th {\n",
       "        text-align: right;\n",
       "    }\n",
       "</style>\n",
       "<table border=\"1\" class=\"dataframe\">\n",
       "  <thead>\n",
       "    <tr style=\"text-align: right;\">\n",
       "      <th></th>\n",
       "      <th>count</th>\n",
       "      <th>mean</th>\n",
       "      <th>std</th>\n",
       "      <th>min</th>\n",
       "      <th>25%</th>\n",
       "      <th>50%</th>\n",
       "      <th>75%</th>\n",
       "      <th>max</th>\n",
       "      <th>cv</th>\n",
       "    </tr>\n",
       "    <tr>\n",
       "      <th>test preparation course</th>\n",
       "      <th></th>\n",
       "      <th></th>\n",
       "      <th></th>\n",
       "      <th></th>\n",
       "      <th></th>\n",
       "      <th></th>\n",
       "      <th></th>\n",
       "      <th></th>\n",
       "      <th></th>\n",
       "    </tr>\n",
       "  </thead>\n",
       "  <tbody>\n",
       "    <tr>\n",
       "      <th>completed</th>\n",
       "      <td>358.0</td>\n",
       "      <td>74.684358</td>\n",
       "      <td>13.236412</td>\n",
       "      <td>36.0</td>\n",
       "      <td>67.0</td>\n",
       "      <td>76.0</td>\n",
       "      <td>83.75</td>\n",
       "      <td>100.0</td>\n",
       "      <td>17.723139</td>\n",
       "    </tr>\n",
       "    <tr>\n",
       "      <th>none</th>\n",
       "      <td>642.0</td>\n",
       "      <td>64.457944</td>\n",
       "      <td>15.041667</td>\n",
       "      <td>10.0</td>\n",
       "      <td>54.0</td>\n",
       "      <td>65.0</td>\n",
       "      <td>74.00</td>\n",
       "      <td>100.0</td>\n",
       "      <td>23.335629</td>\n",
       "    </tr>\n",
       "  </tbody>\n",
       "</table>\n",
       "</div>"
      ],
      "text/plain": [
       "                         count       mean        std   min   25%   50%    75%  \\\n",
       "test preparation course                                                         \n",
       "completed                358.0  74.684358  13.236412  36.0  67.0  76.0  83.75   \n",
       "none                     642.0  64.457944  15.041667  10.0  54.0  65.0  74.00   \n",
       "\n",
       "                           max         cv  \n",
       "test preparation course                    \n",
       "completed                100.0  17.723139  \n",
       "none                     100.0  23.335629  "
      ]
     },
     "execution_count": 28,
     "metadata": {},
     "output_type": "execute_result"
    }
   ],
   "source": [
    "data1=pd.DataFrame(data)\n",
    "data2=data1.groupby(\"test preparation course\")[\"writing score\"].describe()\n",
    "dfn=pd.DataFrame(data2)\n",
    "\n",
    "#coefficient of variation\n",
    "dfn[\"cv\"]=(data2[\"std\"]/data2[\"mean\"])*100\n",
    "dfn.sort_values(by=\"cv\",ascending=True)"
   ]
  },
  {
   "cell_type": "markdown",
   "id": "4b530e53",
   "metadata": {},
   "source": [
    "**Findings**\n",
    "\n",
    "Those who not completed the test preparation has an higher variation(23.33%) in writing score in camparison to those who completed."
   ]
  },
  {
   "cell_type": "markdown",
   "id": "e9cc7a2e",
   "metadata": {},
   "source": [
    "## 5. The management needs your help to give bonus points to the top 25% of students based on their maths score, so how will you    help the management to achieve this."
   ]
  },
  {
   "cell_type": "code",
   "execution_count": 29,
   "id": "45a1b705",
   "metadata": {},
   "outputs": [
    {
     "data": {
      "text/html": [
       "<div>\n",
       "<style scoped>\n",
       "    .dataframe tbody tr th:only-of-type {\n",
       "        vertical-align: middle;\n",
       "    }\n",
       "\n",
       "    .dataframe tbody tr th {\n",
       "        vertical-align: top;\n",
       "    }\n",
       "\n",
       "    .dataframe thead th {\n",
       "        text-align: right;\n",
       "    }\n",
       "</style>\n",
       "<table border=\"1\" class=\"dataframe\">\n",
       "  <thead>\n",
       "    <tr style=\"text-align: right;\">\n",
       "      <th></th>\n",
       "      <th>gender</th>\n",
       "      <th>race/ethnicity</th>\n",
       "      <th>parental level of education</th>\n",
       "      <th>lunch</th>\n",
       "      <th>test preparation course</th>\n",
       "      <th>math score</th>\n",
       "      <th>reading score</th>\n",
       "      <th>writing score</th>\n",
       "    </tr>\n",
       "  </thead>\n",
       "  <tbody>\n",
       "    <tr>\n",
       "      <th>999</th>\n",
       "      <td>male</td>\n",
       "      <td>group E</td>\n",
       "      <td>bachelor's degree</td>\n",
       "      <td>standard</td>\n",
       "      <td>completed</td>\n",
       "      <td>100</td>\n",
       "      <td>100</td>\n",
       "      <td>100</td>\n",
       "    </tr>\n",
       "    <tr>\n",
       "      <th>996</th>\n",
       "      <td>male</td>\n",
       "      <td>group A</td>\n",
       "      <td>some college</td>\n",
       "      <td>standard</td>\n",
       "      <td>completed</td>\n",
       "      <td>100</td>\n",
       "      <td>96</td>\n",
       "      <td>86</td>\n",
       "    </tr>\n",
       "    <tr>\n",
       "      <th>515</th>\n",
       "      <td>female</td>\n",
       "      <td>group E</td>\n",
       "      <td>some college</td>\n",
       "      <td>standard</td>\n",
       "      <td>none</td>\n",
       "      <td>100</td>\n",
       "      <td>92</td>\n",
       "      <td>97</td>\n",
       "    </tr>\n",
       "    <tr>\n",
       "      <th>517</th>\n",
       "      <td>female</td>\n",
       "      <td>group E</td>\n",
       "      <td>associate's degree</td>\n",
       "      <td>standard</td>\n",
       "      <td>none</td>\n",
       "      <td>100</td>\n",
       "      <td>100</td>\n",
       "      <td>100</td>\n",
       "    </tr>\n",
       "    <tr>\n",
       "      <th>516</th>\n",
       "      <td>female</td>\n",
       "      <td>group E</td>\n",
       "      <td>bachelor's degree</td>\n",
       "      <td>standard</td>\n",
       "      <td>none</td>\n",
       "      <td>100</td>\n",
       "      <td>100</td>\n",
       "      <td>100</td>\n",
       "    </tr>\n",
       "    <tr>\n",
       "      <th>...</th>\n",
       "      <td>...</td>\n",
       "      <td>...</td>\n",
       "      <td>...</td>\n",
       "      <td>...</td>\n",
       "      <td>...</td>\n",
       "      <td>...</td>\n",
       "      <td>...</td>\n",
       "      <td>...</td>\n",
       "    </tr>\n",
       "    <tr>\n",
       "      <th>856</th>\n",
       "      <td>male</td>\n",
       "      <td>group E</td>\n",
       "      <td>some high school</td>\n",
       "      <td>standard</td>\n",
       "      <td>completed</td>\n",
       "      <td>77</td>\n",
       "      <td>76</td>\n",
       "      <td>77</td>\n",
       "    </tr>\n",
       "    <tr>\n",
       "      <th>855</th>\n",
       "      <td>male</td>\n",
       "      <td>group E</td>\n",
       "      <td>associate's degree</td>\n",
       "      <td>free/reduced</td>\n",
       "      <td>completed</td>\n",
       "      <td>77</td>\n",
       "      <td>69</td>\n",
       "      <td>68</td>\n",
       "    </tr>\n",
       "    <tr>\n",
       "      <th>854</th>\n",
       "      <td>male</td>\n",
       "      <td>group D</td>\n",
       "      <td>some high school</td>\n",
       "      <td>standard</td>\n",
       "      <td>completed</td>\n",
       "      <td>77</td>\n",
       "      <td>68</td>\n",
       "      <td>69</td>\n",
       "    </tr>\n",
       "    <tr>\n",
       "      <th>853</th>\n",
       "      <td>male</td>\n",
       "      <td>group D</td>\n",
       "      <td>associate's degree</td>\n",
       "      <td>free/reduced</td>\n",
       "      <td>none</td>\n",
       "      <td>77</td>\n",
       "      <td>78</td>\n",
       "      <td>73</td>\n",
       "    </tr>\n",
       "    <tr>\n",
       "      <th>852</th>\n",
       "      <td>male</td>\n",
       "      <td>group D</td>\n",
       "      <td>some college</td>\n",
       "      <td>free/reduced</td>\n",
       "      <td>none</td>\n",
       "      <td>77</td>\n",
       "      <td>62</td>\n",
       "      <td>64</td>\n",
       "    </tr>\n",
       "  </tbody>\n",
       "</table>\n",
       "<p>250 rows × 8 columns</p>\n",
       "</div>"
      ],
      "text/plain": [
       "     gender race/ethnicity parental level of education         lunch  \\\n",
       "999    male        group E           bachelor's degree      standard   \n",
       "996    male        group A                some college      standard   \n",
       "515  female        group E                some college      standard   \n",
       "517  female        group E          associate's degree      standard   \n",
       "516  female        group E           bachelor's degree      standard   \n",
       "..      ...            ...                         ...           ...   \n",
       "856    male        group E            some high school      standard   \n",
       "855    male        group E          associate's degree  free/reduced   \n",
       "854    male        group D            some high school      standard   \n",
       "853    male        group D          associate's degree  free/reduced   \n",
       "852    male        group D                some college  free/reduced   \n",
       "\n",
       "    test preparation course  math score  reading score  writing score  \n",
       "999               completed         100            100            100  \n",
       "996               completed         100             96             86  \n",
       "515                    none         100             92             97  \n",
       "517                    none         100            100            100  \n",
       "516                    none         100            100            100  \n",
       "..                      ...         ...            ...            ...  \n",
       "856               completed          77             76             77  \n",
       "855               completed          77             69             68  \n",
       "854               completed          77             68             69  \n",
       "853                    none          77             78             73  \n",
       "852                    none          77             62             64  \n",
       "\n",
       "[250 rows x 8 columns]"
      ]
     },
     "execution_count": 29,
     "metadata": {},
     "output_type": "execute_result"
    }
   ],
   "source": [
    "data.sort_values('math score',ascending=False).head(int(df.shape[0]*.25))"
   ]
  },
  {
   "cell_type": "code",
   "execution_count": 30,
   "id": "75b3fbfd",
   "metadata": {},
   "outputs": [
    {
     "data": {
      "text/html": [
       "<div>\n",
       "<style scoped>\n",
       "    .dataframe tbody tr th:only-of-type {\n",
       "        vertical-align: middle;\n",
       "    }\n",
       "\n",
       "    .dataframe tbody tr th {\n",
       "        vertical-align: top;\n",
       "    }\n",
       "\n",
       "    .dataframe thead th {\n",
       "        text-align: right;\n",
       "    }\n",
       "</style>\n",
       "<table border=\"1\" class=\"dataframe\">\n",
       "  <thead>\n",
       "    <tr style=\"text-align: right;\">\n",
       "      <th></th>\n",
       "      <th>gender</th>\n",
       "      <th>race/ethnicity</th>\n",
       "      <th>parental level of education</th>\n",
       "      <th>lunch</th>\n",
       "      <th>test preparation course</th>\n",
       "      <th>math score</th>\n",
       "      <th>reading score</th>\n",
       "      <th>writing score</th>\n",
       "    </tr>\n",
       "  </thead>\n",
       "  <tbody>\n",
       "    <tr>\n",
       "      <th>616</th>\n",
       "      <td>male</td>\n",
       "      <td>group C</td>\n",
       "      <td>associate's degree</td>\n",
       "      <td>standard</td>\n",
       "      <td>completed</td>\n",
       "      <td>57</td>\n",
       "      <td>54</td>\n",
       "      <td>56</td>\n",
       "    </tr>\n",
       "    <tr>\n",
       "      <th>615</th>\n",
       "      <td>male</td>\n",
       "      <td>group B</td>\n",
       "      <td>high school</td>\n",
       "      <td>standard</td>\n",
       "      <td>none</td>\n",
       "      <td>57</td>\n",
       "      <td>48</td>\n",
       "      <td>51</td>\n",
       "    </tr>\n",
       "    <tr>\n",
       "      <th>614</th>\n",
       "      <td>male</td>\n",
       "      <td>group B</td>\n",
       "      <td>associate's degree</td>\n",
       "      <td>free/reduced</td>\n",
       "      <td>none</td>\n",
       "      <td>57</td>\n",
       "      <td>56</td>\n",
       "      <td>57</td>\n",
       "    </tr>\n",
       "    <tr>\n",
       "      <th>152</th>\n",
       "      <td>female</td>\n",
       "      <td>group E</td>\n",
       "      <td>master's degree</td>\n",
       "      <td>free/reduced</td>\n",
       "      <td>none</td>\n",
       "      <td>56</td>\n",
       "      <td>72</td>\n",
       "      <td>65</td>\n",
       "    </tr>\n",
       "    <tr>\n",
       "      <th>611</th>\n",
       "      <td>male</td>\n",
       "      <td>group D</td>\n",
       "      <td>some high school</td>\n",
       "      <td>free/reduced</td>\n",
       "      <td>none</td>\n",
       "      <td>56</td>\n",
       "      <td>54</td>\n",
       "      <td>52</td>\n",
       "    </tr>\n",
       "    <tr>\n",
       "      <th>...</th>\n",
       "      <td>...</td>\n",
       "      <td>...</td>\n",
       "      <td>...</td>\n",
       "      <td>...</td>\n",
       "      <td>...</td>\n",
       "      <td>...</td>\n",
       "      <td>...</td>\n",
       "      <td>...</td>\n",
       "    </tr>\n",
       "    <tr>\n",
       "      <th>2</th>\n",
       "      <td>female</td>\n",
       "      <td>group B</td>\n",
       "      <td>some high school</td>\n",
       "      <td>free/reduced</td>\n",
       "      <td>none</td>\n",
       "      <td>18</td>\n",
       "      <td>32</td>\n",
       "      <td>28</td>\n",
       "    </tr>\n",
       "    <tr>\n",
       "      <th>51</th>\n",
       "      <td>female</td>\n",
       "      <td>group C</td>\n",
       "      <td>some high school</td>\n",
       "      <td>free/reduced</td>\n",
       "      <td>none</td>\n",
       "      <td>13</td>\n",
       "      <td>41</td>\n",
       "      <td>51</td>\n",
       "    </tr>\n",
       "    <tr>\n",
       "      <th>3</th>\n",
       "      <td>female</td>\n",
       "      <td>group B</td>\n",
       "      <td>some college</td>\n",
       "      <td>standard</td>\n",
       "      <td>none</td>\n",
       "      <td>11</td>\n",
       "      <td>38</td>\n",
       "      <td>32</td>\n",
       "    </tr>\n",
       "    <tr>\n",
       "      <th>1</th>\n",
       "      <td>female</td>\n",
       "      <td>group B</td>\n",
       "      <td>high school</td>\n",
       "      <td>free/reduced</td>\n",
       "      <td>none</td>\n",
       "      <td>8</td>\n",
       "      <td>24</td>\n",
       "      <td>23</td>\n",
       "    </tr>\n",
       "    <tr>\n",
       "      <th>0</th>\n",
       "      <td>female</td>\n",
       "      <td>group C</td>\n",
       "      <td>some high school</td>\n",
       "      <td>free/reduced</td>\n",
       "      <td>none</td>\n",
       "      <td>0</td>\n",
       "      <td>17</td>\n",
       "      <td>10</td>\n",
       "    </tr>\n",
       "  </tbody>\n",
       "</table>\n",
       "<p>250 rows × 8 columns</p>\n",
       "</div>"
      ],
      "text/plain": [
       "     gender race/ethnicity parental level of education         lunch  \\\n",
       "616    male        group C          associate's degree      standard   \n",
       "615    male        group B                 high school      standard   \n",
       "614    male        group B          associate's degree  free/reduced   \n",
       "152  female        group E             master's degree  free/reduced   \n",
       "611    male        group D            some high school  free/reduced   \n",
       "..      ...            ...                         ...           ...   \n",
       "2    female        group B            some high school  free/reduced   \n",
       "51   female        group C            some high school  free/reduced   \n",
       "3    female        group B                some college      standard   \n",
       "1    female        group B                 high school  free/reduced   \n",
       "0    female        group C            some high school  free/reduced   \n",
       "\n",
       "    test preparation course  math score  reading score  writing score  \n",
       "616               completed          57             54             56  \n",
       "615                    none          57             48             51  \n",
       "614                    none          57             56             57  \n",
       "152                    none          56             72             65  \n",
       "611                    none          56             54             52  \n",
       "..                      ...         ...            ...            ...  \n",
       "2                      none          18             32             28  \n",
       "51                     none          13             41             51  \n",
       "3                      none          11             38             32  \n",
       "1                      none           8             24             23  \n",
       "0                      none           0             17             10  \n",
       "\n",
       "[250 rows x 8 columns]"
      ]
     },
     "execution_count": 30,
     "metadata": {},
     "output_type": "execute_result"
    }
   ],
   "source": [
    "data.sort_values('math score',ascending=False).tail(int(df.shape[0]*.25))"
   ]
  },
  {
   "cell_type": "code",
   "execution_count": null,
   "id": "2492a7a5",
   "metadata": {},
   "outputs": [],
   "source": []
  },
  {
   "cell_type": "code",
   "execution_count": null,
   "id": "7bc2bcd1",
   "metadata": {},
   "outputs": [],
   "source": []
  },
  {
   "cell_type": "markdown",
   "id": "d8924a65",
   "metadata": {},
   "source": [
    "# END"
   ]
  },
  {
   "cell_type": "code",
   "execution_count": 31,
   "id": "ea11c19d",
   "metadata": {},
   "outputs": [],
   "source": [
    "#Submitted by Akshaya.v"
   ]
  },
  {
   "cell_type": "code",
   "execution_count": null,
   "id": "0dfed2a2",
   "metadata": {},
   "outputs": [],
   "source": []
  }
 ],
 "metadata": {
  "kernelspec": {
   "display_name": "Python 3",
   "language": "python",
   "name": "python3"
  },
  "language_info": {
   "codemirror_mode": {
    "name": "ipython",
    "version": 3
   },
   "file_extension": ".py",
   "mimetype": "text/x-python",
   "name": "python",
   "nbconvert_exporter": "python",
   "pygments_lexer": "ipython3",
   "version": "3.8.8"
  }
 },
 "nbformat": 4,
 "nbformat_minor": 5
}
